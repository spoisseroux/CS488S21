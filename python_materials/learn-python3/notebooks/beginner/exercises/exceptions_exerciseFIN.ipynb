{
  "nbformat": 4,
  "nbformat_minor": 0,
  "metadata": {
    "kernelspec": {
      "display_name": "Python 3",
      "language": "python",
      "name": "python3"
    },
    "language_info": {
      "codemirror_mode": {
        "name": "ipython",
        "version": 3
      },
      "file_extension": ".py",
      "mimetype": "text/x-python",
      "name": "python",
      "nbconvert_exporter": "python",
      "pygments_lexer": "ipython3",
      "version": "3.5.4"
    },
    "colab": {
      "name": "exceptions_exercise.ipynb",
      "provenance": []
    }
  },
  "cells": [
    {
      "cell_type": "markdown",
      "metadata": {
        "id": "lXqBk2A2w3lP"
      },
      "source": [
        "# 1. Dealing with exceptions\n",
        "Fill `____` parts of the implementation below. `sum_of_list` function takes a list as argument and calculates the sum of values in the list. If some element in the list can not be converted to a numeric value, it should be ignored from the sum."
      ]
    },
    {
      "cell_type": "code",
      "metadata": {
        "id": "ORB8Yzmqw3lY"
      },
      "source": [
        "def sum_of_list(values):\n",
        "    sum = 0\n",
        "    for val in values:\n",
        "        try:\n",
        "            numeric_val = float(val)\n",
        "        except ValueError as e2:\n",
        "            print(e2)\n",
        "            numeric_val = 0\n",
        "        except TypeError as e1:\n",
        "            print(e1)\n",
        "            numeric_val = 0\n",
        "        sum += numeric_val\n",
        "    return sum"
      ],
      "execution_count": 17,
      "outputs": []
    },
    {
      "cell_type": "code",
      "metadata": {
        "editable": false,
        "id": "W3KkCyzRw3lZ",
        "outputId": "0f544128-cadc-49e1-a833-ab4f25da681e",
        "colab": {
          "base_uri": "https://localhost:8080/"
        }
      },
      "source": [
        "list1 = [1, 2, 3]\n",
        "list2 = ['1', 2.5, '3.0']\n",
        "list3 = ['', '1']\n",
        "list4 = []\n",
        "list5 = ['John', 'Doe', 'was', 'here']\n",
        "nasty_list = [KeyError(), [], dict()]\n",
        "\n",
        "assert sum_of_list(list1) == 6\n",
        "assert sum_of_list(list2) == 6.5\n",
        "assert sum_of_list(list3) == 1\n",
        "assert sum_of_list(list4) == 0\n",
        "assert sum_of_list(list5) == 0\n",
        "assert sum_of_list(nasty_list) == 0"
      ],
      "execution_count": 18,
      "outputs": [
        {
          "output_type": "stream",
          "text": [
            "could not convert string to float: \n",
            "could not convert string to float: 'John'\n",
            "could not convert string to float: 'Doe'\n",
            "could not convert string to float: 'was'\n",
            "could not convert string to float: 'here'\n",
            "float() argument must be a string or a number, not 'KeyError'\n",
            "float() argument must be a string or a number, not 'list'\n",
            "float() argument must be a string or a number, not 'dict'\n"
          ],
          "name": "stdout"
        }
      ]
    },
    {
      "cell_type": "markdown",
      "metadata": {
        "id": "1SNsiVoAw3la"
      },
      "source": [
        "# 2. Using custom exceptions\n",
        "Implement `verify_short_string` function which takes a single string as argument. If the length of the input string is more than ten characters, the function should raise `TooLongString` exception (note: you have to create `TooLongString` yourself). The function does not have to return anything.  "
      ]
    },
    {
      "cell_type": "code",
      "metadata": {
        "id": "KxD-r9yHw3la"
      },
      "source": [
        "# Your implementation here\n",
        "class TooLongString(Exception):\n",
        "    pass\n",
        "\n",
        "def verify_short_string(string):\n",
        "  if len(string) <= 10:\n",
        "    return True\n",
        "  else:\n",
        "    raise TooLongString()\n"
      ],
      "execution_count": 29,
      "outputs": []
    },
    {
      "cell_type": "code",
      "metadata": {
        "editable": false,
        "id": "baRij48Qw3lb"
      },
      "source": [
        "# These should not raise\n",
        "verify_short_string('short') \n",
        "verify_short_string('10   chars')\n",
        "\n",
        "# This should raise\n",
        "try:\n",
        "    verify_short_string('this is long')\n",
        "except TooLongString as e:\n",
        "    # This is ok\n",
        "    pass\n",
        "else:\n",
        "    # This means that there was no exception\n",
        "    assert False "
      ],
      "execution_count": 30,
      "outputs": []
    }
  ]
}
{
  "nbformat": 4,
  "nbformat_minor": 0,
  "metadata": {
    "celltoolbar": "Edit Metadata",
    "kernelspec": {
      "display_name": "Python 3",
      "language": "python",
      "name": "python3"
    },
    "language_info": {
      "codemirror_mode": {
        "name": "ipython",
        "version": 3
      },
      "file_extension": ".py",
      "mimetype": "text/x-python",
      "name": "python",
      "nbconvert_exporter": "python",
      "pygments_lexer": "ipython3",
      "version": "3.5.4"
    },
    "colab": {
      "name": "dictionaries_exercise.ipynb",
      "provenance": []
    }
  },
  "cells": [
    {
      "cell_type": "markdown",
      "metadata": {
        "id": "jgR_jqZLQ07b"
      },
      "source": [
        "# 1. Populating a dictionary\n",
        "Create a dictionary by using all the given variables."
      ]
    },
    {
      "cell_type": "code",
      "metadata": {
        "editable": false,
        "id": "YQuul5GuQ07c"
      },
      "source": [
        "first_name = 'John'\n",
        "last_name = 'Doe'\n",
        "favorite_hobby = 'Python'\n",
        "sports_hobby = 'gym'\n",
        "age = 82"
      ],
      "execution_count": 11,
      "outputs": []
    },
    {
      "cell_type": "code",
      "metadata": {
        "id": "nwmGyIK9Q07e"
      },
      "source": [
        "# Your implementation\n",
        "my_dict = dict(first_name='John', last_name='Doe', hobbies=['Python', 'gym'], age=82)"
      ],
      "execution_count": 12,
      "outputs": []
    },
    {
      "cell_type": "code",
      "metadata": {
        "editable": false,
        "id": "LXW2gi3HQ07e",
        "outputId": "269f2cdc-e389-40dc-e2dd-237f526bc28a",
        "colab": {
          "base_uri": "https://localhost:8080/",
          "height": 223
        }
      },
      "source": [
        "assert my_dict == {\n",
        "        'name': 'John Doe',\n",
        "        'age': 82,\n",
        "        'hobbies': ['Python', 'gym']\n",
        "    }"
      ],
      "execution_count": 13,
      "outputs": [
        {
          "output_type": "error",
          "ename": "AssertionError",
          "evalue": "ignored",
          "traceback": [
            "\u001b[0;31m---------------------------------------------------------------------------\u001b[0m",
            "\u001b[0;31mAssertionError\u001b[0m                            Traceback (most recent call last)",
            "\u001b[0;32m<ipython-input-13-96824938cc48>\u001b[0m in \u001b[0;36m<module>\u001b[0;34m()\u001b[0m\n\u001b[1;32m      2\u001b[0m         \u001b[0;34m'name'\u001b[0m\u001b[0;34m:\u001b[0m \u001b[0;34m'John Doe'\u001b[0m\u001b[0;34m,\u001b[0m\u001b[0;34m\u001b[0m\u001b[0;34m\u001b[0m\u001b[0m\n\u001b[1;32m      3\u001b[0m         \u001b[0;34m'age'\u001b[0m\u001b[0;34m:\u001b[0m \u001b[0;36m82\u001b[0m\u001b[0;34m,\u001b[0m\u001b[0;34m\u001b[0m\u001b[0;34m\u001b[0m\u001b[0m\n\u001b[0;32m----> 4\u001b[0;31m         \u001b[0;34m'hobbies'\u001b[0m\u001b[0;34m:\u001b[0m \u001b[0;34m[\u001b[0m\u001b[0;34m'Python'\u001b[0m\u001b[0;34m,\u001b[0m \u001b[0;34m'gym'\u001b[0m\u001b[0;34m]\u001b[0m\u001b[0;34m\u001b[0m\u001b[0;34m\u001b[0m\u001b[0m\n\u001b[0m\u001b[1;32m      5\u001b[0m     }\n",
            "\u001b[0;31mAssertionError\u001b[0m: "
          ]
        }
      ]
    },
    {
      "cell_type": "markdown",
      "metadata": {
        "id": "0RxHbe_mQ07e"
      },
      "source": [
        "# 2. Accessing and merging dictionaries\n",
        "Combine `dict1`, `dict2`, and `dict3` into `my_dict`. In addition, get the value of `special_key` from `my_dict` into a `special_value` variable. Note that original dictionaries should stay untouched and `special_key` should be removed from `my_dict`."
      ]
    },
    {
      "cell_type": "code",
      "metadata": {
        "editable": false,
        "id": "h0Ag8VQJQ07f"
      },
      "source": [
        "dict1 = dict(key1='This is not that hard', key2='Python is still cool')\n",
        "dict2 = {'key1': 123, 'special_key': 'secret'}\n",
        "# This is also a away to initialize a dict (list of tuples) \n",
        "dict3 = dict([('key2', 456), ('keyX', 'X')])"
      ],
      "execution_count": 14,
      "outputs": []
    },
    {
      "cell_type": "code",
      "metadata": {
        "id": "x0C0fLS4Q07g",
        "outputId": "5c08b3c5-3a15-4613-cd92-20b16e9ed071",
        "colab": {
          "base_uri": "https://localhost:8080/"
        }
      },
      "source": [
        "# 'Your impelementation'\n",
        "my_dict = {}\n",
        "my_dict.update(dict1)\n",
        "my_dict.update(dict2)\n",
        "my_dict.update(dict3)\n",
        "special_value = my_dict.get('special_key')\n",
        "del my_dict['special_key']\n",
        "print(my_dict)"
      ],
      "execution_count": 21,
      "outputs": [
        {
          "output_type": "stream",
          "text": [
            "{'key1': 123, 'key2': 456, 'keyX': 'X'}\n"
          ],
          "name": "stdout"
        }
      ]
    },
    {
      "cell_type": "code",
      "metadata": {
        "editable": false,
        "id": "c2SXy5I7Q07g"
      },
      "source": [
        "assert my_dict == {'key1': 123, 'key2': 456, 'keyX': 'X'}\n",
        "assert special_value == 'secret'\n",
        "\n",
        "# Let's check that the originals are untouched\n",
        "assert dict1 == {\n",
        "        'key1': 'This is not that hard',\n",
        "        'key2': 'Python is still cool'\n",
        "    }\n",
        "assert dict2 == {'key1': 123, 'special_key': 'secret'}\n",
        "assert dict3 == {'key2': 456, 'keyX': 'X'}"
      ],
      "execution_count": 22,
      "outputs": []
    }
  ]
}